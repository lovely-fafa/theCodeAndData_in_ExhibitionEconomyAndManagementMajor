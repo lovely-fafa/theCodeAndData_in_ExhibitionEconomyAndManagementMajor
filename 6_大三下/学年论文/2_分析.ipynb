{
 "cells": [
  {
   "cell_type": "code",
   "execution_count": 2,
   "metadata": {
    "collapsed": true
   },
   "outputs": [
    {
     "name": "stderr",
     "output_type": "stream",
     "text": [
      "C:\\Users\\lenovo\\AppData\\Local\\Temp\\ipykernel_45340\\3023772686.py:11: MatplotlibDeprecationWarning: The seaborn styles shipped by Matplotlib are deprecated since 3.6, as they no longer correspond to the styles shipped by seaborn. However, they will remain available as 'seaborn-v0_8-<style>'. Alternatively, directly use the seaborn API instead.\n",
      "  plt.style.use(\"seaborn-pastel\")\n"
     ]
    }
   ],
   "source": [
    "from typing import List\n",
    "\n",
    "import cairosvg\n",
    "from wordcloud import WordCloud\n",
    "import pandas as pd\n",
    "import numpy as np\n",
    "import matplotlib.pyplot as plt\n",
    "from tqdm import tqdm\n",
    "from pylab import mpl\n",
    "\n",
    "plt.style.use(\"seaborn-pastel\")\n",
    "\n",
    "# 字体设置\n",
    "mpl.rcParams['font.family'] = ['Microsoft Yahei']  # 使用字体中的无衬线体\n",
    "mpl.rcParams['font.size'] = 20  # 设置字体大小\n",
    "mpl.rcParams['axes.unicode_minus'] = False  # 使坐标轴刻度标签正常显示正负号"
   ]
  },
  {
   "cell_type": "code",
   "execution_count": 3,
   "outputs": [],
   "source": [
    "df = pd.read_excel('备份.xlsx', index_col=0)"
   ],
   "metadata": {
    "collapsed": false
   }
  },
  {
   "cell_type": "code",
   "execution_count": 4,
   "outputs": [],
   "source": [
    "REGION_MAP = {\n",
    "    '华北地区': ['北京西山国家森林公园', '北京上方山国家森林公园', '塞罕坝国家森林公园',\n",
    "                 '乌金山国家森林公园', '阿尔山国家森林公园'],\n",
    "    '东北地区': ['关门山国家森林公园', '猴石国家森林公园', '净月潭', '五营国家森林公园'],\n",
    "    '华东地区': ['西佘山园', '三台山国家森林公园', '大奇山国家森林公园', '福州国家森林公园',\n",
    "                 '日照海滨国家森林公园'],\n",
    "    '华中地区': ['张家界国家森林公园', '莽山国家森林公园', '九龙江国家森林公园'],\n",
    "    '华南地区': ['南岭国家森林公园', '流溪河国家森林公园', '石门国家森林公园', '姑婆山',\n",
    "                 '尖峰岭国家森林公园'],\n",
    "    '西南地区': ['仙女山国家森林公园', '武陵山国家森林公园', '海螺沟',\n",
    "                 '西双版纳原始森林公园'],\n",
    "    '西北地区': ['太白山国家森林公园', '黎坪森林公园', '坎布拉国家森林公园', '天门山国家森林公园']\n",
    "}"
   ],
   "metadata": {
    "collapsed": false
   }
  },
  {
   "cell_type": "code",
   "execution_count": 5,
   "outputs": [
    {
     "data": {
      "text/plain": "       name     id  level   num  all_point         user  point  \\\n0      西佘山园  76825    NaN   107        4.7       走走停停。。    5.0   \n1      西佘山园  76825    NaN   107        4.7  139****8030    2.0   \n2      西佘山园  76825    NaN   107        4.7  M36****7643    5.0   \n3      西佘山园  76825    NaN   107        4.7    ell****ng    5.0   \n4      西佘山园  76825    NaN   107        4.7   EricmengTW    4.0   \n...     ...    ...    ...   ...        ...          ...    ...   \n40964   海螺沟  89792    5.0  3614        4.3    ysypyq521    5.0   \n40965   海螺沟  89792    5.0  3614        4.3    M59****86    5.0   \n40966   海螺沟  89792    5.0  3614        4.3         丑丑诺诺    5.0   \n40967   海螺沟  89792    5.0  3614        4.3     my_way66    5.0   \n40968   海螺沟  89792    5.0  3614        4.3   M12****545    5.0   \n\n                                                 content    lan       date  \\\n0                                    周末带娃随便爬一下还是不错的，增进感情  zh-cn 2023-05-31   \n1      2月初的时候带爸妈去逛了一圈，山倒不高，不过对平时缺乏运动的或者腿脚不便的上了年纪的人来说还...  zh-cn 2023-03-22   \n2                                       上海松江佘山，人少景美，空气好。  zh-cn 2023-03-22   \n3                                        在上海算是非常值得一游的地方了  zh-cn 2023-01-31   \n4                                    Very good Very nice  zh-cn 2022-12-26   \n...                                                  ...    ...        ...   \n40964                            非常好！景区环境卫生都很好！合适家人一起游玩！  zh-cn 2019-04-06   \n40965  三月份游海螺沟门票及交通车缆车全部享受半价，四号营地冰川有太阳的照下，光芒四射，有远近雪山的...  zh-cn 2019-04-06   \n40966                                   非常值得一来看，冰川时代，雪景美  zh-cn 2019-04-06   \n40967                        景区管理不错，基础设施完善，沿着冰川和雪山，走在森林中  zh-cn 2019-04-06   \n40968      很美的景色，也很可爱，唯一运气不佳的是，山顶起雾了没有一睹冰川的雄伟，以后有机会还要弥补上  zh-cn 2019-04-05   \n\n        ip                                                key  \n0       上海  [{'count': 1, 'eq': '0.953', 'final': '0.671',...  \n1       上海  [{'score': '0.575', 'word': '钢钉'}, {'score': '...  \n2       上海  [{'score': '0.686', 'word': '佘山'}, {'score': '...  \n3       上海  [{'score': '0.624', 'word': '地方'}, {'score': '...  \n4       湖北                                               None  \n...    ...                                                ...  \n40964  NaN  [{'score': '0.652', 'word': '景区'}, {'score': '...  \n40965  NaN  [{'score': '0.641', 'word': '螺沟'}, {'score': '...  \n40966  NaN  [{'score': '0.749', 'word': '雪景'}, {'score': '...  \n40967  NaN  [{'score': '0.663', 'word': '雪山'}, {'score': '...  \n40968  NaN  [{'score': '0.606', 'word': '冰川'}, {'score': '...  \n\n[40969 rows x 12 columns]",
      "text/html": "<div>\n<style scoped>\n    .dataframe tbody tr th:only-of-type {\n        vertical-align: middle;\n    }\n\n    .dataframe tbody tr th {\n        vertical-align: top;\n    }\n\n    .dataframe thead th {\n        text-align: right;\n    }\n</style>\n<table border=\"1\" class=\"dataframe\">\n  <thead>\n    <tr style=\"text-align: right;\">\n      <th></th>\n      <th>name</th>\n      <th>id</th>\n      <th>level</th>\n      <th>num</th>\n      <th>all_point</th>\n      <th>user</th>\n      <th>point</th>\n      <th>content</th>\n      <th>lan</th>\n      <th>date</th>\n      <th>ip</th>\n      <th>key</th>\n    </tr>\n  </thead>\n  <tbody>\n    <tr>\n      <th>0</th>\n      <td>西佘山园</td>\n      <td>76825</td>\n      <td>NaN</td>\n      <td>107</td>\n      <td>4.7</td>\n      <td>走走停停。。</td>\n      <td>5.0</td>\n      <td>周末带娃随便爬一下还是不错的，增进感情</td>\n      <td>zh-cn</td>\n      <td>2023-05-31</td>\n      <td>上海</td>\n      <td>[{'count': 1, 'eq': '0.953', 'final': '0.671',...</td>\n    </tr>\n    <tr>\n      <th>1</th>\n      <td>西佘山园</td>\n      <td>76825</td>\n      <td>NaN</td>\n      <td>107</td>\n      <td>4.7</td>\n      <td>139****8030</td>\n      <td>2.0</td>\n      <td>2月初的时候带爸妈去逛了一圈，山倒不高，不过对平时缺乏运动的或者腿脚不便的上了年纪的人来说还...</td>\n      <td>zh-cn</td>\n      <td>2023-03-22</td>\n      <td>上海</td>\n      <td>[{'score': '0.575', 'word': '钢钉'}, {'score': '...</td>\n    </tr>\n    <tr>\n      <th>2</th>\n      <td>西佘山园</td>\n      <td>76825</td>\n      <td>NaN</td>\n      <td>107</td>\n      <td>4.7</td>\n      <td>M36****7643</td>\n      <td>5.0</td>\n      <td>上海松江佘山，人少景美，空气好。</td>\n      <td>zh-cn</td>\n      <td>2023-03-22</td>\n      <td>上海</td>\n      <td>[{'score': '0.686', 'word': '佘山'}, {'score': '...</td>\n    </tr>\n    <tr>\n      <th>3</th>\n      <td>西佘山园</td>\n      <td>76825</td>\n      <td>NaN</td>\n      <td>107</td>\n      <td>4.7</td>\n      <td>ell****ng</td>\n      <td>5.0</td>\n      <td>在上海算是非常值得一游的地方了</td>\n      <td>zh-cn</td>\n      <td>2023-01-31</td>\n      <td>上海</td>\n      <td>[{'score': '0.624', 'word': '地方'}, {'score': '...</td>\n    </tr>\n    <tr>\n      <th>4</th>\n      <td>西佘山园</td>\n      <td>76825</td>\n      <td>NaN</td>\n      <td>107</td>\n      <td>4.7</td>\n      <td>EricmengTW</td>\n      <td>4.0</td>\n      <td>Very good Very nice</td>\n      <td>zh-cn</td>\n      <td>2022-12-26</td>\n      <td>湖北</td>\n      <td>None</td>\n    </tr>\n    <tr>\n      <th>...</th>\n      <td>...</td>\n      <td>...</td>\n      <td>...</td>\n      <td>...</td>\n      <td>...</td>\n      <td>...</td>\n      <td>...</td>\n      <td>...</td>\n      <td>...</td>\n      <td>...</td>\n      <td>...</td>\n      <td>...</td>\n    </tr>\n    <tr>\n      <th>40964</th>\n      <td>海螺沟</td>\n      <td>89792</td>\n      <td>5.0</td>\n      <td>3614</td>\n      <td>4.3</td>\n      <td>ysypyq521</td>\n      <td>5.0</td>\n      <td>非常好！景区环境卫生都很好！合适家人一起游玩！</td>\n      <td>zh-cn</td>\n      <td>2019-04-06</td>\n      <td>NaN</td>\n      <td>[{'score': '0.652', 'word': '景区'}, {'score': '...</td>\n    </tr>\n    <tr>\n      <th>40965</th>\n      <td>海螺沟</td>\n      <td>89792</td>\n      <td>5.0</td>\n      <td>3614</td>\n      <td>4.3</td>\n      <td>M59****86</td>\n      <td>5.0</td>\n      <td>三月份游海螺沟门票及交通车缆车全部享受半价，四号营地冰川有太阳的照下，光芒四射，有远近雪山的...</td>\n      <td>zh-cn</td>\n      <td>2019-04-06</td>\n      <td>NaN</td>\n      <td>[{'score': '0.641', 'word': '螺沟'}, {'score': '...</td>\n    </tr>\n    <tr>\n      <th>40966</th>\n      <td>海螺沟</td>\n      <td>89792</td>\n      <td>5.0</td>\n      <td>3614</td>\n      <td>4.3</td>\n      <td>丑丑诺诺</td>\n      <td>5.0</td>\n      <td>非常值得一来看，冰川时代，雪景美</td>\n      <td>zh-cn</td>\n      <td>2019-04-06</td>\n      <td>NaN</td>\n      <td>[{'score': '0.749', 'word': '雪景'}, {'score': '...</td>\n    </tr>\n    <tr>\n      <th>40967</th>\n      <td>海螺沟</td>\n      <td>89792</td>\n      <td>5.0</td>\n      <td>3614</td>\n      <td>4.3</td>\n      <td>my_way66</td>\n      <td>5.0</td>\n      <td>景区管理不错，基础设施完善，沿着冰川和雪山，走在森林中</td>\n      <td>zh-cn</td>\n      <td>2019-04-06</td>\n      <td>NaN</td>\n      <td>[{'score': '0.663', 'word': '雪山'}, {'score': '...</td>\n    </tr>\n    <tr>\n      <th>40968</th>\n      <td>海螺沟</td>\n      <td>89792</td>\n      <td>5.0</td>\n      <td>3614</td>\n      <td>4.3</td>\n      <td>M12****545</td>\n      <td>5.0</td>\n      <td>很美的景色，也很可爱，唯一运气不佳的是，山顶起雾了没有一睹冰川的雄伟，以后有机会还要弥补上</td>\n      <td>zh-cn</td>\n      <td>2019-04-05</td>\n      <td>NaN</td>\n      <td>[{'score': '0.606', 'word': '冰川'}, {'score': '...</td>\n    </tr>\n  </tbody>\n</table>\n<p>40969 rows × 12 columns</p>\n</div>"
     },
     "execution_count": 5,
     "metadata": {},
     "output_type": "execute_result"
    }
   ],
   "source": [
    "df"
   ],
   "metadata": {
    "collapsed": false
   }
  },
  {
   "cell_type": "markdown",
   "source": [
    "## 拆分公园"
   ],
   "metadata": {
    "collapsed": false
   }
  },
  {
   "cell_type": "code",
   "execution_count": 4,
   "outputs": [],
   "source": [
    "def count_save(name, keys_list: List):\n",
    "    di = {}\n",
    "    for i in keys_list:\n",
    "        di[i] = di.get(i, 0) + 1\n",
    "\n",
    "    tem = pd.DataFrame(data=di.items(), columns=['k', 'v']).sort_values('v', ascending=False)\n",
    "    tem['type'] = ''\n",
    "    tem.index = np.arange(tem.shape[0])\n",
    "    tem.to_excel(f'./data/{name}.xlsx')"
   ],
   "metadata": {
    "collapsed": false
   }
  },
  {
   "cell_type": "code",
   "execution_count": 5,
   "outputs": [
    {
     "name": "stderr",
     "output_type": "stream",
     "text": [
      "100%|██████████| 30/30 [00:03<00:00,  9.58it/s]\n"
     ]
    }
   ],
   "source": [
    "all_key = []\n",
    "for name, one_df in tqdm(df.groupby('name')):\n",
    "    keys = []\n",
    "    for i in one_df['key']:\n",
    "        try:\n",
    "            for one_key in eval(i):\n",
    "                keys.append(one_key['word'])\n",
    "                all_key.append(one_key['word'])\n",
    "        except:\n",
    "            pass\n",
    "\n",
    "    # count_save(name, keys)"
   ],
   "metadata": {
    "collapsed": false
   }
  },
  {
   "cell_type": "code",
   "execution_count": 6,
   "outputs": [],
   "source": [
    "count_save('all', all_key)"
   ],
   "metadata": {
    "collapsed": false
   }
  },
  {
   "cell_type": "markdown",
   "source": [
    "# 1 开始分析咯\n",
    "## 1.1 把地区放进去"
   ],
   "metadata": {
    "collapsed": false
   }
  },
  {
   "cell_type": "code",
   "execution_count": 5,
   "outputs": [],
   "source": [
    "df['region'] = ''"
   ],
   "metadata": {
    "collapsed": false
   }
  },
  {
   "cell_type": "code",
   "execution_count": 6,
   "outputs": [
    {
     "name": "stderr",
     "output_type": "stream",
     "text": [
      "100%|██████████| 40969/40969 [00:05<00:00, 7187.06it/s]\n"
     ]
    }
   ],
   "source": [
    "for row in tqdm(df.index):\n",
    "    for region, names in REGION_MAP.items():\n",
    "        if df.loc[row, 'name'] in names:\n",
    "            df.loc[row, 'region'] = region\n",
    "            break"
   ],
   "metadata": {
    "collapsed": false
   }
  },
  {
   "cell_type": "code",
   "execution_count": 7,
   "outputs": [
    {
     "data": {
      "text/plain": "         name     id  level  num  all_point            user  point  \\\n850  猴石国家森林公园  87369    NaN  371        4.5  TONGCHENG_USER    3.3   \n851  猴石国家森林公园  87369    NaN  371        4.5  TONGCHENG_USER    3.3   \n\n                                        content    lan       date   ip  \\\n850  去时没有什么人,上山的木质走道都坏了不能通行,也没有修复。环境还行/就是硬件设施差点  zh-cn 2015-11-30  NaN   \n851         猴石国家森林公园值得一去，自然景观美不胜收，但就是飞虫太多，影响情绪。  zh-cn 2015-11-23  NaN   \n\n                                                   key region  \n850  [{'score': '0.615', 'word': '木质'}, {'score': '...   东北地区  \n851  [{'score': '0.683', 'word': '猴石'}, {'score': '...   东北地区  ",
      "text/html": "<div>\n<style scoped>\n    .dataframe tbody tr th:only-of-type {\n        vertical-align: middle;\n    }\n\n    .dataframe tbody tr th {\n        vertical-align: top;\n    }\n\n    .dataframe thead th {\n        text-align: right;\n    }\n</style>\n<table border=\"1\" class=\"dataframe\">\n  <thead>\n    <tr style=\"text-align: right;\">\n      <th></th>\n      <th>name</th>\n      <th>id</th>\n      <th>level</th>\n      <th>num</th>\n      <th>all_point</th>\n      <th>user</th>\n      <th>point</th>\n      <th>content</th>\n      <th>lan</th>\n      <th>date</th>\n      <th>ip</th>\n      <th>key</th>\n      <th>region</th>\n    </tr>\n  </thead>\n  <tbody>\n    <tr>\n      <th>850</th>\n      <td>猴石国家森林公园</td>\n      <td>87369</td>\n      <td>NaN</td>\n      <td>371</td>\n      <td>4.5</td>\n      <td>TONGCHENG_USER</td>\n      <td>3.3</td>\n      <td>去时没有什么人,上山的木质走道都坏了不能通行,也没有修复。环境还行/就是硬件设施差点</td>\n      <td>zh-cn</td>\n      <td>2015-11-30</td>\n      <td>NaN</td>\n      <td>[{'score': '0.615', 'word': '木质'}, {'score': '...</td>\n      <td>东北地区</td>\n    </tr>\n    <tr>\n      <th>851</th>\n      <td>猴石国家森林公园</td>\n      <td>87369</td>\n      <td>NaN</td>\n      <td>371</td>\n      <td>4.5</td>\n      <td>TONGCHENG_USER</td>\n      <td>3.3</td>\n      <td>猴石国家森林公园值得一去，自然景观美不胜收，但就是飞虫太多，影响情绪。</td>\n      <td>zh-cn</td>\n      <td>2015-11-23</td>\n      <td>NaN</td>\n      <td>[{'score': '0.683', 'word': '猴石'}, {'score': '...</td>\n      <td>东北地区</td>\n    </tr>\n  </tbody>\n</table>\n</div>"
     },
     "execution_count": 7,
     "metadata": {},
     "output_type": "execute_result"
    }
   ],
   "source": [
    "df[df['point'] == 3.3]"
   ],
   "metadata": {
    "collapsed": false
   }
  },
  {
   "cell_type": "code",
   "execution_count": 8,
   "outputs": [],
   "source": [
    "df.loc[850, 'point'] = 3.0\n",
    "df.loc[851, 'point'] = 3.0"
   ],
   "metadata": {
    "collapsed": false
   }
  },
  {
   "cell_type": "markdown",
   "source": [
    "## 1.2 画图图\n",
    "### 1.2.1 情感分布"
   ],
   "metadata": {
    "collapsed": false
   }
  },
  {
   "cell_type": "code",
   "execution_count": 39,
   "outputs": [],
   "source": [
    "point_zhanbi = pd.DataFrame()\n",
    "for region, one_df in df.groupby('region'):\n",
    "    point_zhanbi[region] = (one_df.groupby('point').count() / one_df.shape[0])['name']\n"
   ],
   "metadata": {
    "collapsed": false
   }
  },
  {
   "cell_type": "code",
   "execution_count": 40,
   "outputs": [
    {
     "data": {
      "text/plain": "           东北地区      华东地区      华中地区      华北地区      华南地区      西北地区      西南地区\npoint                                                                      \n1.0    0.022203  0.027995  0.038715  0.040573  0.021967  0.036309  0.043582\n2.0    0.008458  0.019075  0.016200  0.021281  0.008622  0.009823  0.022818\n3.0    0.063612  0.089063  0.062603  0.077168  0.077397  0.042800  0.090588\n4.0    0.192952  0.233978  0.162548  0.199682  0.241429  0.161200  0.210724\n5.0    0.712775  0.629889  0.719934  0.661297  0.650585  0.749868  0.632288",
      "text/html": "<div>\n<style scoped>\n    .dataframe tbody tr th:only-of-type {\n        vertical-align: middle;\n    }\n\n    .dataframe tbody tr th {\n        vertical-align: top;\n    }\n\n    .dataframe thead th {\n        text-align: right;\n    }\n</style>\n<table border=\"1\" class=\"dataframe\">\n  <thead>\n    <tr style=\"text-align: right;\">\n      <th></th>\n      <th>东北地区</th>\n      <th>华东地区</th>\n      <th>华中地区</th>\n      <th>华北地区</th>\n      <th>华南地区</th>\n      <th>西北地区</th>\n      <th>西南地区</th>\n    </tr>\n    <tr>\n      <th>point</th>\n      <th></th>\n      <th></th>\n      <th></th>\n      <th></th>\n      <th></th>\n      <th></th>\n      <th></th>\n    </tr>\n  </thead>\n  <tbody>\n    <tr>\n      <th>1.0</th>\n      <td>0.022203</td>\n      <td>0.027995</td>\n      <td>0.038715</td>\n      <td>0.040573</td>\n      <td>0.021967</td>\n      <td>0.036309</td>\n      <td>0.043582</td>\n    </tr>\n    <tr>\n      <th>2.0</th>\n      <td>0.008458</td>\n      <td>0.019075</td>\n      <td>0.016200</td>\n      <td>0.021281</td>\n      <td>0.008622</td>\n      <td>0.009823</td>\n      <td>0.022818</td>\n    </tr>\n    <tr>\n      <th>3.0</th>\n      <td>0.063612</td>\n      <td>0.089063</td>\n      <td>0.062603</td>\n      <td>0.077168</td>\n      <td>0.077397</td>\n      <td>0.042800</td>\n      <td>0.090588</td>\n    </tr>\n    <tr>\n      <th>4.0</th>\n      <td>0.192952</td>\n      <td>0.233978</td>\n      <td>0.162548</td>\n      <td>0.199682</td>\n      <td>0.241429</td>\n      <td>0.161200</td>\n      <td>0.210724</td>\n    </tr>\n    <tr>\n      <th>5.0</th>\n      <td>0.712775</td>\n      <td>0.629889</td>\n      <td>0.719934</td>\n      <td>0.661297</td>\n      <td>0.650585</td>\n      <td>0.749868</td>\n      <td>0.632288</td>\n    </tr>\n  </tbody>\n</table>\n</div>"
     },
     "execution_count": 40,
     "metadata": {},
     "output_type": "execute_result"
    }
   ],
   "source": [
    "point_zhanbi"
   ],
   "metadata": {
    "collapsed": false
   }
  },
  {
   "cell_type": "code",
   "execution_count": 75,
   "outputs": [],
   "source": [
    "HATCH = '/|±.0'\n",
    "\n",
    "\n",
    "def bars_draw(da: pd.DataFrame, filename):\n",
    "    plt.figure(figsize=(12, 6))\n",
    "    X = np.arange(0, (da.shape[0] + 1) * da.shape[1], da.shape[0] + 1)\n",
    "    for index, row in enumerate(da.index):\n",
    "        plt.bar(X + index, da.loc[row, :], width=1, label=row\n",
    "                # , hatch=HATCH[index] * 1\n",
    "                # , color='white'\n",
    "                )\n",
    "\n",
    "        for x, y in zip(X + index, da.loc[row, :]):\n",
    "            plt.text(x, y + 0.01, '%.2f%%' % y, ha='center', size=7)\n",
    "\n",
    "    plt.xticks(X + (da.shape[0] - 1) / 2, da.columns)\n",
    "    plt.legend(loc='upper right')\n",
    "    plt.ylim(0, 1)\n",
    "    plt.savefig(f'./pic/{filename}.svg')"
   ],
   "metadata": {
    "collapsed": false
   }
  },
  {
   "cell_type": "code",
   "execution_count": 76,
   "outputs": [
    {
     "data": {
      "text/plain": "<Figure size 864x432 with 1 Axes>",
      "image/png": "[encoded data removed]"
     },
     "metadata": {
      "needs_background": "light"
     },
     "output_type": "display_data"
    }
   ],
   "source": [
    "bars_draw(point_zhanbi, '情感_有颜色')"
   ],
   "metadata": {
    "collapsed": false
   }
  },
  {
   "cell_type": "code",
   "execution_count": 77,
   "outputs": [
    {
     "data": {
      "text/plain": "       name     id  level   num  all_point         user  point  \\\n0      西佘山园  76825    NaN   107        4.7       走走停停。。    5.0   \n1      西佘山园  76825    NaN   107        4.7  139****8030    2.0   \n2      西佘山园  76825    NaN   107        4.7  M36****7643    5.0   \n3      西佘山园  76825    NaN   107        4.7    ell****ng    5.0   \n4      西佘山园  76825    NaN   107        4.7   EricmengTW    4.0   \n...     ...    ...    ...   ...        ...          ...    ...   \n40964   海螺沟  89792    5.0  3614        4.3    ysypyq521    5.0   \n40965   海螺沟  89792    5.0  3614        4.3    M59****86    5.0   \n40966   海螺沟  89792    5.0  3614        4.3         丑丑诺诺    5.0   \n40967   海螺沟  89792    5.0  3614        4.3     my_way66    5.0   \n40968   海螺沟  89792    5.0  3614        4.3   M12****545    5.0   \n\n                                                 content    lan       date  \\\n0                                    周末带娃随便爬一下还是不错的，增进感情  zh-cn 2023-05-31   \n1      2月初的时候带爸妈去逛了一圈，山倒不高，不过对平时缺乏运动的或者腿脚不便的上了年纪的人来说还...  zh-cn 2023-03-22   \n2                                       上海松江佘山，人少景美，空气好。  zh-cn 2023-03-22   \n3                                        在上海算是非常值得一游的地方了  zh-cn 2023-01-31   \n4                                    Very good Very nice  zh-cn 2022-12-26   \n...                                                  ...    ...        ...   \n40964                            非常好！景区环境卫生都很好！合适家人一起游玩！  zh-cn 2019-04-06   \n40965  三月份游海螺沟门票及交通车缆车全部享受半价，四号营地冰川有太阳的照下，光芒四射，有远近雪山的...  zh-cn 2019-04-06   \n40966                                   非常值得一来看，冰川时代，雪景美  zh-cn 2019-04-06   \n40967                        景区管理不错，基础设施完善，沿着冰川和雪山，走在森林中  zh-cn 2019-04-06   \n40968      很美的景色，也很可爱，唯一运气不佳的是，山顶起雾了没有一睹冰川的雄伟，以后有机会还要弥补上  zh-cn 2019-04-05   \n\n        ip                                                key region  \n0       上海  [{'count': 1, 'eq': '0.953', 'final': '0.671',...   华东地区  \n1       上海  [{'score': '0.575', 'word': '钢钉'}, {'score': '...   华东地区  \n2       上海  [{'score': '0.686', 'word': '佘山'}, {'score': '...   华东地区  \n3       上海  [{'score': '0.624', 'word': '地方'}, {'score': '...   华东地区  \n4       湖北                                               None   华东地区  \n...    ...                                                ...    ...  \n40964  NaN  [{'score': '0.652', 'word': '景区'}, {'score': '...   西南地区  \n40965  NaN  [{'score': '0.641', 'word': '螺沟'}, {'score': '...   西南地区  \n40966  NaN  [{'score': '0.749', 'word': '雪景'}, {'score': '...   西南地区  \n40967  NaN  [{'score': '0.663', 'word': '雪山'}, {'score': '...   西南地区  \n40968  NaN  [{'score': '0.606', 'word': '冰川'}, {'score': '...   西南地区  \n\n[40969 rows x 13 columns]",
      "text/html": "<div>\n<style scoped>\n    .dataframe tbody tr th:only-of-type {\n        vertical-align: middle;\n    }\n\n    .dataframe tbody tr th {\n        vertical-align: top;\n    }\n\n    .dataframe thead th {\n        text-align: right;\n    }\n</style>\n<table border=\"1\" class=\"dataframe\">\n  <thead>\n    <tr style=\"text-align: right;\">\n      <th></th>\n      <th>name</th>\n      <th>id</th>\n      <th>level</th>\n      <th>num</th>\n      <th>all_point</th>\n      <th>user</th>\n      <th>point</th>\n      <th>content</th>\n      <th>lan</th>\n      <th>date</th>\n      <th>ip</th>\n      <th>key</th>\n      <th>region</th>\n    </tr>\n  </thead>\n  <tbody>\n    <tr>\n      <th>0</th>\n      <td>西佘山园</td>\n      <td>76825</td>\n      <td>NaN</td>\n      <td>107</td>\n      <td>4.7</td>\n      <td>走走停停。。</td>\n      <td>5.0</td>\n      <td>周末带娃随便爬一下还是不错的，增进感情</td>\n      <td>zh-cn</td>\n      <td>2023-05-31</td>\n      <td>上海</td>\n      <td>[{'count': 1, 'eq': '0.953', 'final': '0.671',...</td>\n      <td>华东地区</td>\n    </tr>\n    <tr>\n      <th>1</th>\n      <td>西佘山园</td>\n      <td>76825</td>\n      <td>NaN</td>\n      <td>107</td>\n      <td>4.7</td>\n      <td>139****8030</td>\n      <td>2.0</td>\n      <td>2月初的时候带爸妈去逛了一圈，山倒不高，不过对平时缺乏运动的或者腿脚不便的上了年纪的人来说还...</td>\n      <td>zh-cn</td>\n      <td>2023-03-22</td>\n      <td>上海</td>\n      <td>[{'score': '0.575', 'word': '钢钉'}, {'score': '...</td>\n      <td>华东地区</td>\n    </tr>\n    <tr>\n      <th>2</th>\n      <td>西佘山园</td>\n      <td>76825</td>\n      <td>NaN</td>\n      <td>107</td>\n      <td>4.7</td>\n      <td>M36****7643</td>\n      <td>5.0</td>\n      <td>上海松江佘山，人少景美，空气好。</td>\n      <td>zh-cn</td>\n      <td>2023-03-22</td>\n      <td>上海</td>\n      <td>[{'score': '0.686', 'word': '佘山'}, {'score': '...</td>\n      <td>华东地区</td>\n    </tr>\n    <tr>\n      <th>3</th>\n      <td>西佘山园</td>\n      <td>76825</td>\n      <td>NaN</td>\n      <td>107</td>\n      <td>4.7</td>\n      <td>ell****ng</td>\n      <td>5.0</td>\n      <td>在上海算是非常值得一游的地方了</td>\n      <td>zh-cn</td>\n      <td>2023-01-31</td>\n      <td>上海</td>\n      <td>[{'score': '0.624', 'word': '地方'}, {'score': '...</td>\n      <td>华东地区</td>\n    </tr>\n    <tr>\n      <th>4</th>\n      <td>西佘山园</td>\n      <td>76825</td>\n      <td>NaN</td>\n      <td>107</td>\n      <td>4.7</td>\n      <td>EricmengTW</td>\n      <td>4.0</td>\n      <td>Very good Very nice</td>\n      <td>zh-cn</td>\n      <td>2022-12-26</td>\n      <td>湖北</td>\n      <td>None</td>\n      <td>华东地区</td>\n    </tr>\n    <tr>\n      <th>...</th>\n      <td>...</td>\n      <td>...</td>\n      <td>...</td>\n      <td>...</td>\n      <td>...</td>\n      <td>...</td>\n      <td>...</td>\n      <td>...</td>\n      <td>...</td>\n      <td>...</td>\n      <td>...</td>\n      <td>...</td>\n      <td>...</td>\n    </tr>\n    <tr>\n      <th>40964</th>\n      <td>海螺沟</td>\n      <td>89792</td>\n      <td>5.0</td>\n      <td>3614</td>\n      <td>4.3</td>\n      <td>ysypyq521</td>\n      <td>5.0</td>\n      <td>非常好！景区环境卫生都很好！合适家人一起游玩！</td>\n      <td>zh-cn</td>\n      <td>2019-04-06</td>\n      <td>NaN</td>\n      <td>[{'score': '0.652', 'word': '景区'}, {'score': '...</td>\n      <td>西南地区</td>\n    </tr>\n    <tr>\n      <th>40965</th>\n      <td>海螺沟</td>\n      <td>89792</td>\n      <td>5.0</td>\n      <td>3614</td>\n      <td>4.3</td>\n      <td>M59****86</td>\n      <td>5.0</td>\n      <td>三月份游海螺沟门票及交通车缆车全部享受半价，四号营地冰川有太阳的照下，光芒四射，有远近雪山的...</td>\n      <td>zh-cn</td>\n      <td>2019-04-06</td>\n      <td>NaN</td>\n      <td>[{'score': '0.641', 'word': '螺沟'}, {'score': '...</td>\n      <td>西南地区</td>\n    </tr>\n    <tr>\n      <th>40966</th>\n      <td>海螺沟</td>\n      <td>89792</td>\n      <td>5.0</td>\n      <td>3614</td>\n      <td>4.3</td>\n      <td>丑丑诺诺</td>\n      <td>5.0</td>\n      <td>非常值得一来看，冰川时代，雪景美</td>\n      <td>zh-cn</td>\n      <td>2019-04-06</td>\n      <td>NaN</td>\n      <td>[{'score': '0.749', 'word': '雪景'}, {'score': '...</td>\n      <td>西南地区</td>\n    </tr>\n    <tr>\n      <th>40967</th>\n      <td>海螺沟</td>\n      <td>89792</td>\n      <td>5.0</td>\n      <td>3614</td>\n      <td>4.3</td>\n      <td>my_way66</td>\n      <td>5.0</td>\n      <td>景区管理不错，基础设施完善，沿着冰川和雪山，走在森林中</td>\n      <td>zh-cn</td>\n      <td>2019-04-06</td>\n      <td>NaN</td>\n      <td>[{'score': '0.663', 'word': '雪山'}, {'score': '...</td>\n      <td>西南地区</td>\n    </tr>\n    <tr>\n      <th>40968</th>\n      <td>海螺沟</td>\n      <td>89792</td>\n      <td>5.0</td>\n      <td>3614</td>\n      <td>4.3</td>\n      <td>M12****545</td>\n      <td>5.0</td>\n      <td>很美的景色，也很可爱，唯一运气不佳的是，山顶起雾了没有一睹冰川的雄伟，以后有机会还要弥补上</td>\n      <td>zh-cn</td>\n      <td>2019-04-05</td>\n      <td>NaN</td>\n      <td>[{'score': '0.606', 'word': '冰川'}, {'score': '...</td>\n      <td>西南地区</td>\n    </tr>\n  </tbody>\n</table>\n<p>40969 rows × 13 columns</p>\n</div>"
     },
     "execution_count": 77,
     "metadata": {},
     "output_type": "execute_result"
    }
   ],
   "source": [
    "df"
   ],
   "metadata": {
    "collapsed": false
   }
  },
  {
   "cell_type": "markdown",
   "source": [
    "## 1.3 词云图\n",
    "#### 1.3.1 拿频率"
   ],
   "metadata": {
    "collapsed": false
   }
  },
  {
   "cell_type": "code",
   "execution_count": 22,
   "outputs": [
    {
     "name": "stderr",
     "output_type": "stream",
     "text": [
      "  0%|          | 0/7 [00:00<?, ?it/s]"
     ]
    },
    {
     "name": "stdout",
     "output_type": "stream",
     "text": [
      "None | 'NoneType' object is not iterable\n",
      "None | 'NoneType' object is not iterable\n",
      "None | 'NoneType' object is not iterable\n",
      "None | 'NoneType' object is not iterable\n",
      "None | 'NoneType' object is not iterable\n",
      "nan | eval() arg 1 must be a string, bytes or code object\n",
      "None | 'NoneType' object is not iterable\n",
      "None | 'NoneType' object is not iterable\n",
      "None | 'NoneType' object is not iterable\n",
      "None | 'NoneType' object is not iterable\n",
      "None | 'NoneType' object is not iterable\n",
      "None | 'NoneType' object is not iterable\n",
      "None | 'NoneType' object is not iterable\n",
      "None | 'NoneType' object is not iterable\n",
      "None | 'NoneType' object is not iterable\n",
      "None | 'NoneType' object is not iterable\n",
      "None | 'NoneType' object is not iterable\n",
      "None | 'NoneType' object is not iterable\n",
      "None | 'NoneType' object is not iterable\n"
     ]
    },
    {
     "name": "stderr",
     "output_type": "stream",
     "text": [
      " 14%|█▍        | 1/7 [00:00<00:03,  1.59it/s]"
     ]
    },
    {
     "name": "stdout",
     "output_type": "stream",
     "text": [
      "None | 'NoneType' object is not iterable\n",
      "nan | eval() arg 1 must be a string, bytes or code object\n",
      "None | 'NoneType' object is not iterable\n",
      "None | 'NoneType' object is not iterable\n",
      "None | 'NoneType' object is not iterable\n",
      "None | 'NoneType' object is not iterable\n",
      "None | 'NoneType' object is not iterable\n",
      "None | 'NoneType' object is not iterable\n",
      "None | 'NoneType' object is not iterable\n",
      "None | 'NoneType' object is not iterable\n",
      "None | 'NoneType' object is not iterable\n",
      "None | 'NoneType' object is not iterable\n",
      "None | 'NoneType' object is not iterable\n",
      "None | 'NoneType' object is not iterable\n",
      "None | 'NoneType' object is not iterable\n",
      "None | 'NoneType' object is not iterable\n",
      "None | 'NoneType' object is not iterable\n",
      "None | 'NoneType' object is not iterable\n",
      "None | 'NoneType' object is not iterable\n",
      "None | 'NoneType' object is not iterable\n",
      "None | 'NoneType' object is not iterable\n",
      "None | 'NoneType' object is not iterable\n",
      "None | 'NoneType' object is not iterable\n",
      "None | 'NoneType' object is not iterable\n",
      "None | 'NoneType' object is not iterable\n",
      "None | 'NoneType' object is not iterable\n",
      "None | 'NoneType' object is not iterable\n",
      "None | 'NoneType' object is not iterable\n",
      "None | 'NoneType' object is not iterable\n",
      "None | 'NoneType' object is not iterable\n",
      "None | 'NoneType' object is not iterable\n",
      "None | 'NoneType' object is not iterable\n",
      "None | 'NoneType' object is not iterable\n",
      "None | 'NoneType' object is not iterable\n",
      "None | 'NoneType' object is not iterable\n"
     ]
    },
    {
     "name": "stderr",
     "output_type": "stream",
     "text": [
      " 29%|██▊       | 2/7 [00:01<00:04,  1.22it/s]"
     ]
    },
    {
     "name": "stdout",
     "output_type": "stream",
     "text": [
      "None | 'NoneType' object is not iterable\n",
      "None | 'NoneType' object is not iterable\n",
      "None | 'NoneType' object is not iterable\n",
      "None | 'NoneType' object is not iterable\n",
      "None | 'NoneType' object is not iterable\n",
      "None | 'NoneType' object is not iterable\n",
      "None | 'NoneType' object is not iterable\n",
      "None | 'NoneType' object is not iterable\n",
      "None | 'NoneType' object is not iterable\n",
      "None | 'NoneType' object is not iterable\n"
     ]
    },
    {
     "name": "stderr",
     "output_type": "stream",
     "text": [
      " 43%|████▎     | 3/7 [00:01<00:02,  1.57it/s]"
     ]
    },
    {
     "name": "stdout",
     "output_type": "stream",
     "text": [
      "None | 'NoneType' object is not iterable\n",
      "None | 'NoneType' object is not iterable\n",
      "None | 'NoneType' object is not iterable\n",
      "None | 'NoneType' object is not iterable\n",
      "None | 'NoneType' object is not iterable\n",
      "None | 'NoneType' object is not iterable\n",
      "None | 'NoneType' object is not iterable\n",
      "None | 'NoneType' object is not iterable\n",
      "None | 'NoneType' object is not iterable\n",
      "None | 'NoneType' object is not iterable\n",
      "None | 'NoneType' object is not iterable\n",
      "None | 'NoneType' object is not iterable\n",
      "None | 'NoneType' object is not iterable\n",
      "None | 'NoneType' object is not iterable\n",
      "None | 'NoneType' object is not iterable\n",
      "None | 'NoneType' object is not iterable\n",
      "None | 'NoneType' object is not iterable\n",
      "None | 'NoneType' object is not iterable\n",
      "None | 'NoneType' object is not iterable\n",
      "None | 'NoneType' object is not iterable\n",
      "None | 'NoneType' object is not iterable\n",
      "None | 'NoneType' object is not iterable\n",
      "None | 'NoneType' object is not iterable\n",
      "None | 'NoneType' object is not iterable\n",
      "None | 'NoneType' object is not iterable\n",
      "None | 'NoneType' object is not iterable\n",
      "None | 'NoneType' object is not iterable\n",
      "None | 'NoneType' object is not iterable\n",
      "None | 'NoneType' object is not iterable\n",
      "None | 'NoneType' object is not iterable\n",
      "None | 'NoneType' object is not iterable\n",
      "None | 'NoneType' object is not iterable\n",
      "None | 'NoneType' object is not iterable\n"
     ]
    },
    {
     "name": "stderr",
     "output_type": "stream",
     "text": [
      " 57%|█████▋    | 4/7 [00:02<00:01,  1.59it/s]"
     ]
    },
    {
     "name": "stdout",
     "output_type": "stream",
     "text": [
      "None | 'NoneType' object is not iterable\n",
      "None | 'NoneType' object is not iterable\n",
      "None | 'NoneType' object is not iterable\n",
      "None | 'NoneType' object is not iterable\n",
      "None | 'NoneType' object is not iterable\n",
      "None | 'NoneType' object is not iterable\n",
      "None | 'NoneType' object is not iterable\n",
      "None | 'NoneType' object is not iterable\n",
      "None | 'NoneType' object is not iterable\n",
      "None | 'NoneType' object is not iterable\n",
      "None | 'NoneType' object is not iterable\n",
      "None | 'NoneType' object is not iterable\n"
     ]
    },
    {
     "name": "stderr",
     "output_type": "stream",
     "text": [
      " 71%|███████▏  | 5/7 [00:03<00:01,  1.56it/s]"
     ]
    },
    {
     "name": "stdout",
     "output_type": "stream",
     "text": [
      "None | 'NoneType' object is not iterable\n",
      "nan | eval() arg 1 must be a string, bytes or code object\n",
      "None | 'NoneType' object is not iterable\n",
      "None | 'NoneType' object is not iterable\n",
      "None | 'NoneType' object is not iterable\n",
      "None | 'NoneType' object is not iterable\n",
      "None | 'NoneType' object is not iterable\n",
      "None | 'NoneType' object is not iterable\n",
      "nan | eval() arg 1 must be a string, bytes or code object\n",
      "None | 'NoneType' object is not iterable\n",
      "nan | eval() arg 1 must be a string, bytes or code object\n",
      "None | 'NoneType' object is not iterable\n",
      "nan | eval() arg 1 must be a string, bytes or code object\n",
      "nan | eval() arg 1 must be a string, bytes or code object\n",
      "None | 'NoneType' object is not iterable\n",
      "None | 'NoneType' object is not iterable\n",
      "nan | eval() arg 1 must be a string, bytes or code object\n",
      "nan | eval() arg 1 must be a string, bytes or code object\n",
      "nan | eval() arg 1 must be a string, bytes or code object\n",
      "nan | eval() arg 1 must be a string, bytes or code object\n",
      "None | 'NoneType' object is not iterable\n",
      "None | 'NoneType' object is not iterable\n"
     ]
    },
    {
     "name": "stderr",
     "output_type": "stream",
     "text": [
      " 86%|████████▌ | 6/7 [00:03<00:00,  1.50it/s]"
     ]
    },
    {
     "name": "stdout",
     "output_type": "stream",
     "text": [
      "None | 'NoneType' object is not iterable\n",
      "None | 'NoneType' object is not iterable\n",
      "None | 'NoneType' object is not iterable\n",
      "None | 'NoneType' object is not iterable\n",
      "None | 'NoneType' object is not iterable\n",
      "None | 'NoneType' object is not iterable\n",
      "None | 'NoneType' object is not iterable\n",
      "None | 'NoneType' object is not iterable\n",
      "None | 'NoneType' object is not iterable\n",
      "None | 'NoneType' object is not iterable\n",
      "None | 'NoneType' object is not iterable\n",
      "None | 'NoneType' object is not iterable\n",
      "None | 'NoneType' object is not iterable\n",
      "None | 'NoneType' object is not iterable\n",
      "None | 'NoneType' object is not iterable\n",
      "None | 'NoneType' object is not iterable\n",
      "None | 'NoneType' object is not iterable\n",
      "None | 'NoneType' object is not iterable\n",
      "None | 'NoneType' object is not iterable\n",
      "None | 'NoneType' object is not iterable\n",
      "None | 'NoneType' object is not iterable\n",
      "None | 'NoneType' object is not iterable\n",
      "None | 'NoneType' object is not iterable\n",
      "None | 'NoneType' object is not iterable\n",
      "None | 'NoneType' object is not iterable\n",
      "None | 'NoneType' object is not iterable\n",
      "None | 'NoneType' object is not iterable\n",
      "None | 'NoneType' object is not iterable\n",
      "None | 'NoneType' object is not iterable\n",
      "None | 'NoneType' object is not iterable\n",
      "None | 'NoneType' object is not iterable\n",
      "None | 'NoneType' object is not iterable\n",
      "None | 'NoneType' object is not iterable\n",
      "None | 'NoneType' object is not iterable\n",
      "None | 'NoneType' object is not iterable\n",
      "None | 'NoneType' object is not iterable\n",
      "None | 'NoneType' object is not iterable\n",
      "None | 'NoneType' object is not iterable\n",
      "None | 'NoneType' object is not iterable\n",
      "None | 'NoneType' object is not iterable\n",
      "None | 'NoneType' object is not iterable\n",
      "None | 'NoneType' object is not iterable\n",
      "None | 'NoneType' object is not iterable\n",
      "None | 'NoneType' object is not iterable\n",
      "None | 'NoneType' object is not iterable\n",
      "None | 'NoneType' object is not iterable\n",
      "None | 'NoneType' object is not iterable\n",
      "None | 'NoneType' object is not iterable\n",
      "None | 'NoneType' object is not iterable\n",
      "None | 'NoneType' object is not iterable\n",
      "None | 'NoneType' object is not iterable\n",
      "None | 'NoneType' object is not iterable\n",
      "None | 'NoneType' object is not iterable\n",
      "None | 'NoneType' object is not iterable\n",
      "None | 'NoneType' object is not iterable\n",
      "None | 'NoneType' object is not iterable\n",
      "None | 'NoneType' object is not iterable\n",
      "None | 'NoneType' object is not iterable\n",
      "None | 'NoneType' object is not iterable\n",
      "None | 'NoneType' object is not iterable\n",
      "None | 'NoneType' object is not iterable\n",
      "None | 'NoneType' object is not iterable\n",
      "None | 'NoneType' object is not iterable\n",
      "None | 'NoneType' object is not iterable\n",
      "None | 'NoneType' object is not iterable\n",
      "nan | eval() arg 1 must be a string, bytes or code object\n",
      "None | 'NoneType' object is not iterable\n",
      "None | 'NoneType' object is not iterable\n",
      "None | 'NoneType' object is not iterable\n",
      "None | 'NoneType' object is not iterable\n",
      "None | 'NoneType' object is not iterable\n",
      "None | 'NoneType' object is not iterable\n",
      "None | 'NoneType' object is not iterable\n",
      "None | 'NoneType' object is not iterable\n",
      "None | 'NoneType' object is not iterable\n"
     ]
    },
    {
     "name": "stderr",
     "output_type": "stream",
     "text": [
      "100%|██████████| 7/7 [00:04<00:00,  1.41it/s]"
     ]
    },
    {
     "name": "stdout",
     "output_type": "stream",
     "text": [
      "None | 'NoneType' object is not iterable\n",
      "None | 'NoneType' object is not iterable\n",
      "None | 'NoneType' object is not iterable\n",
      "None | 'NoneType' object is not iterable\n",
      "None | 'NoneType' object is not iterable\n",
      "None | 'NoneType' object is not iterable\n",
      "None | 'NoneType' object is not iterable\n",
      "None | 'NoneType' object is not iterable\n",
      "None | 'NoneType' object is not iterable\n",
      "None | 'NoneType' object is not iterable\n",
      "None | 'NoneType' object is not iterable\n",
      "None | 'NoneType' object is not iterable\n",
      "None | 'NoneType' object is not iterable\n",
      "None | 'NoneType' object is not iterable\n",
      "None | 'NoneType' object is not iterable\n",
      "None | 'NoneType' object is not iterable\n",
      "None | 'NoneType' object is not iterable\n",
      "None | 'NoneType' object is not iterable\n",
      "None | 'NoneType' object is not iterable\n",
      "None | 'NoneType' object is not iterable\n",
      "None | 'NoneType' object is not iterable\n",
      "None | 'NoneType' object is not iterable\n",
      "None | 'NoneType' object is not iterable\n",
      "None | 'NoneType' object is not iterable\n",
      "None | 'NoneType' object is not iterable\n",
      "None | 'NoneType' object is not iterable\n",
      "None | 'NoneType' object is not iterable\n",
      "None | 'NoneType' object is not iterable\n"
     ]
    },
    {
     "name": "stderr",
     "output_type": "stream",
     "text": [
      "\n"
     ]
    }
   ],
   "source": [
    "freq_dict = {}\n",
    "\n",
    "for region, one_df in tqdm(df.groupby('region')):\n",
    "    tem_dict = {}\n",
    "    for row in one_df.index:\n",
    "        one_key = one_df.loc[row, 'key']\n",
    "        try:\n",
    "            for i in eval(one_key):\n",
    "                if 'final' in i:\n",
    "                    tem_score = eval(i['final'])\n",
    "                else:\n",
    "                    tem_score = eval(i['score'])\n",
    "\n",
    "                tem_dict[i['word']] = tem_dict.get(i['word'], 0) + tem_score\n",
    "        except Exception as e:\n",
    "            print(f'{one_key} | {e}')\n",
    "\n",
    "    freq_dict[region] = tem_dict\n"
   ],
   "metadata": {
    "collapsed": false
   }
  },
  {
   "cell_type": "code",
   "execution_count": 62,
   "outputs": [],
   "source": [
    "# 生成词云\n",
    "def create_word_cloud(frequencies, filename):\n",
    "    wc = WordCloud(\n",
    "        font_path=\"D:\\Adobe\\文件及其教程\\字体\\阿里巴巴普惠体\\Alibaba-PuHuiTi-Regular.ttf\",\n",
    "        max_words=100,\n",
    "        width=2000,\n",
    "        height=1200,\n",
    "        background_color=\"white\",\n",
    "        prefer_horizontal=1\n",
    "\n",
    "    )\n",
    "    word_cloud = wc.generate_from_frequencies(frequencies)\n",
    "    cairosvg.svg2svg(bytestring=word_cloud.to_svg(), write_to=f'./pic/词云图_{filename}.svg')"
   ],
   "metadata": {
    "collapsed": false
   }
  },
  {
   "cell_type": "code",
   "execution_count": 63,
   "outputs": [
    {
     "name": "stderr",
     "output_type": "stream",
     "text": [
      "100%|██████████| 7/7 [01:32<00:00, 13.23s/it]\n"
     ]
    }
   ],
   "source": [
    "for region, freq in tqdm(freq_dict.items()):\n",
    "    create_word_cloud(freq, region)"
   ],
   "metadata": {
    "collapsed": false
   }
  },
  {
   "cell_type": "code",
   "execution_count": 10,
   "outputs": [],
   "source": [
    "df.to_excel('备份2.0.xlsx')"
   ],
   "metadata": {
    "collapsed": false
   }
  }
 ],
 "metadata": {
  "kernelspec": {
   "display_name": "Python 3",
   "language": "python",
   "name": "python3"
  },
  "language_info": {
   "codemirror_mode": {
    "name": "ipython",
    "version": 2
   },
   "file_extension": ".py",
   "mimetype": "text/x-python",
   "name": "python",
   "nbconvert_exporter": "python",
   "pygments_lexer": "ipython2",
   "version": "2.7.6"
  }
 },
 "nbformat": 4,
 "nbformat_minor": 0
}
