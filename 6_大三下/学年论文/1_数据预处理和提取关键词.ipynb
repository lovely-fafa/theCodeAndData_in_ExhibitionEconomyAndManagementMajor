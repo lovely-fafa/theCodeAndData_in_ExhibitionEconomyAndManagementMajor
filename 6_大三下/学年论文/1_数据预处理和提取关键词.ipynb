{
 "cells": [
  {
   "cell_type": "code",
   "execution_count": 1,
   "metadata": {
    "collapsed": true
   },
   "outputs": [],
   "source": [
    "import logging\n",
    "from concurrent import futures\n",
    "\n",
    "from utils import log\n",
    "import pandas as pd\n",
    "import numpy as np\n",
    "import matplotlib.pyplot as plt\n",
    "from tqdm import tqdm"
   ]
  },
  {
   "cell_type": "code",
   "execution_count": 2,
   "outputs": [
    {
     "name": "stderr",
     "output_type": "stream",
     "text": [
      "C:\\Users\\lenovo\\AppData\\Local\\Temp\\ipykernel_8628\\3695148398.py:3: MatplotlibDeprecationWarning: The seaborn styles shipped by Matplotlib are deprecated since 3.6, as they no longer correspond to the styles shipped by seaborn. However, they will remain available as 'seaborn-v0_8-<style>'. Alternatively, directly use the seaborn API instead.\n",
      "  plt.style.use(\"seaborn-pastel\")\n"
     ]
    }
   ],
   "source": [
    "from pylab import mpl\n",
    "\n",
    "plt.style.use(\"seaborn-pastel\")\n",
    "\n",
    "# 字体设置\n",
    "mpl.rcParams['font.family'] = ['Microsoft Yahei']  # 使用字体中的无衬线体\n",
    "mpl.rcParams['font.size'] = 20  # 设置字体大小\n",
    "mpl.rcParams['axes.unicode_minus'] = False  # 使坐标轴刻度标签正常显示正负号"
   ],
   "metadata": {
    "collapsed": false
   }
  },
  {
   "cell_type": "markdown",
   "source": [
    "# 1 预处理"
   ],
   "metadata": {
    "collapsed": false
   }
  },
  {
   "cell_type": "code",
   "execution_count": 3,
   "outputs": [],
   "source": [
    "COLUMNS = ['name', 'id', 'level', 'num', 'all_point', 'user', 'point', 'content', 'lan', 'date', 'ip']"
   ],
   "metadata": {
    "collapsed": false
   }
  },
  {
   "cell_type": "code",
   "execution_count": 80,
   "outputs": [],
   "source": [
    "df = pd.read_excel('景点评论.xlsx', names=COLUMNS)"
   ],
   "metadata": {
    "collapsed": false
   }
  },
  {
   "cell_type": "code",
   "execution_count": 53,
   "outputs": [
    {
     "data": {
      "text/plain": "       name     id  level   num  all_point         user  point  \\\n0      西佘山园  76825    NaN   107        4.7       走走停停。。    5.0   \n1      西佘山园  76825    NaN   107        4.7  139****8030    2.0   \n2      西佘山园  76825    NaN   107        4.7  M36****7643    5.0   \n3      西佘山园  76825    NaN   107        4.7    ell****ng    5.0   \n4      西佘山园  76825    NaN   107        4.7   EricmengTW    4.0   \n...     ...    ...    ...   ...        ...          ...    ...   \n42174   海螺沟  89792    5.0  3614        4.3    ysypyq521    5.0   \n42175   海螺沟  89792    5.0  3614        4.3    M59****86    5.0   \n42176   海螺沟  89792    5.0  3614        4.3         丑丑诺诺    5.0   \n42177   海螺沟  89792    5.0  3614        4.3     my_way66    5.0   \n42178   海螺沟  89792    5.0  3614        4.3   M12****545    5.0   \n\n                                                 content    lan        date  \\\n0                                    周末带娃随便爬一下还是不错的，增进感情  zh-cn  2023-05-31   \n1      2月初的时候带爸妈去逛了一圈，山倒不高，不过对平时缺乏运动的或者腿脚不便的上了年纪的人来说还...  zh-cn  2023-03-22   \n2                                       上海松江佘山，人少景美，空气好。  zh-cn  2023-03-22   \n3                                        在上海算是非常值得一游的地方了  zh-cn  2023-01-31   \n4                                    Very good Very nice  zh-cn  2022-12-26   \n...                                                  ...    ...         ...   \n42174                            非常好！景区环境卫生都很好！合适家人一起游玩！  zh-cn  2019-04-06   \n42175  三月份游海螺沟门票及交通车缆车全部享受半价，四号营地冰川有太阳的照下，光芒四射，有远近雪山的...  zh-cn  2019-04-06   \n42176                                   非常值得一来看，冰川时代，雪景美  zh-cn  2019-04-06   \n42177                        景区管理不错，基础设施完善，沿着冰川和雪山，走在森林中  zh-cn  2019-04-06   \n42178      很美的景色，也很可爱，唯一运气不佳的是，山顶起雾了没有一睹冰川的雄伟，以后有机会还要弥补上  zh-cn  2019-04-05   \n\n        ip  \n0       上海  \n1       上海  \n2       上海  \n3       上海  \n4       湖北  \n...    ...  \n42174  NaN  \n42175  NaN  \n42176  NaN  \n42177  NaN  \n42178  NaN  \n\n[42179 rows x 11 columns]",
      "text/html": "<div>\n<style scoped>\n    .dataframe tbody tr th:only-of-type {\n        vertical-align: middle;\n    }\n\n    .dataframe tbody tr th {\n        vertical-align: top;\n    }\n\n    .dataframe thead th {\n        text-align: right;\n    }\n</style>\n<table border=\"1\" class=\"dataframe\">\n  <thead>\n    <tr style=\"text-align: right;\">\n      <th></th>\n      <th>name</th>\n      <th>id</th>\n      <th>level</th>\n      <th>num</th>\n      <th>all_point</th>\n      <th>user</th>\n      <th>point</th>\n      <th>content</th>\n      <th>lan</th>\n      <th>date</th>\n      <th>ip</th>\n    </tr>\n  </thead>\n  <tbody>\n    <tr>\n      <th>0</th>\n      <td>西佘山园</td>\n      <td>76825</td>\n      <td>NaN</td>\n      <td>107</td>\n      <td>4.7</td>\n      <td>走走停停。。</td>\n      <td>5.0</td>\n      <td>周末带娃随便爬一下还是不错的，增进感情</td>\n      <td>zh-cn</td>\n      <td>2023-05-31</td>\n      <td>上海</td>\n    </tr>\n    <tr>\n      <th>1</th>\n      <td>西佘山园</td>\n      <td>76825</td>\n      <td>NaN</td>\n      <td>107</td>\n      <td>4.7</td>\n      <td>139****8030</td>\n      <td>2.0</td>\n      <td>2月初的时候带爸妈去逛了一圈，山倒不高，不过对平时缺乏运动的或者腿脚不便的上了年纪的人来说还...</td>\n      <td>zh-cn</td>\n      <td>2023-03-22</td>\n      <td>上海</td>\n    </tr>\n    <tr>\n      <th>2</th>\n      <td>西佘山园</td>\n      <td>76825</td>\n      <td>NaN</td>\n      <td>107</td>\n      <td>4.7</td>\n      <td>M36****7643</td>\n      <td>5.0</td>\n      <td>上海松江佘山，人少景美，空气好。</td>\n      <td>zh-cn</td>\n      <td>2023-03-22</td>\n      <td>上海</td>\n    </tr>\n    <tr>\n      <th>3</th>\n      <td>西佘山园</td>\n      <td>76825</td>\n      <td>NaN</td>\n      <td>107</td>\n      <td>4.7</td>\n      <td>ell****ng</td>\n      <td>5.0</td>\n      <td>在上海算是非常值得一游的地方了</td>\n      <td>zh-cn</td>\n      <td>2023-01-31</td>\n      <td>上海</td>\n    </tr>\n    <tr>\n      <th>4</th>\n      <td>西佘山园</td>\n      <td>76825</td>\n      <td>NaN</td>\n      <td>107</td>\n      <td>4.7</td>\n      <td>EricmengTW</td>\n      <td>4.0</td>\n      <td>Very good Very nice</td>\n      <td>zh-cn</td>\n      <td>2022-12-26</td>\n      <td>湖北</td>\n    </tr>\n    <tr>\n      <th>...</th>\n      <td>...</td>\n      <td>...</td>\n      <td>...</td>\n      <td>...</td>\n      <td>...</td>\n      <td>...</td>\n      <td>...</td>\n      <td>...</td>\n      <td>...</td>\n      <td>...</td>\n      <td>...</td>\n    </tr>\n    <tr>\n      <th>42174</th>\n      <td>海螺沟</td>\n      <td>89792</td>\n      <td>5.0</td>\n      <td>3614</td>\n      <td>4.3</td>\n      <td>ysypyq521</td>\n      <td>5.0</td>\n      <td>非常好！景区环境卫生都很好！合适家人一起游玩！</td>\n      <td>zh-cn</td>\n      <td>2019-04-06</td>\n      <td>NaN</td>\n    </tr>\n    <tr>\n      <th>42175</th>\n      <td>海螺沟</td>\n      <td>89792</td>\n      <td>5.0</td>\n      <td>3614</td>\n      <td>4.3</td>\n      <td>M59****86</td>\n      <td>5.0</td>\n      <td>三月份游海螺沟门票及交通车缆车全部享受半价，四号营地冰川有太阳的照下，光芒四射，有远近雪山的...</td>\n      <td>zh-cn</td>\n      <td>2019-04-06</td>\n      <td>NaN</td>\n    </tr>\n    <tr>\n      <th>42176</th>\n      <td>海螺沟</td>\n      <td>89792</td>\n      <td>5.0</td>\n      <td>3614</td>\n      <td>4.3</td>\n      <td>丑丑诺诺</td>\n      <td>5.0</td>\n      <td>非常值得一来看，冰川时代，雪景美</td>\n      <td>zh-cn</td>\n      <td>2019-04-06</td>\n      <td>NaN</td>\n    </tr>\n    <tr>\n      <th>42177</th>\n      <td>海螺沟</td>\n      <td>89792</td>\n      <td>5.0</td>\n      <td>3614</td>\n      <td>4.3</td>\n      <td>my_way66</td>\n      <td>5.0</td>\n      <td>景区管理不错，基础设施完善，沿着冰川和雪山，走在森林中</td>\n      <td>zh-cn</td>\n      <td>2019-04-06</td>\n      <td>NaN</td>\n    </tr>\n    <tr>\n      <th>42178</th>\n      <td>海螺沟</td>\n      <td>89792</td>\n      <td>5.0</td>\n      <td>3614</td>\n      <td>4.3</td>\n      <td>M12****545</td>\n      <td>5.0</td>\n      <td>很美的景色，也很可爱，唯一运气不佳的是，山顶起雾了没有一睹冰川的雄伟，以后有机会还要弥补上</td>\n      <td>zh-cn</td>\n      <td>2019-04-05</td>\n      <td>NaN</td>\n    </tr>\n  </tbody>\n</table>\n<p>42179 rows × 11 columns</p>\n</div>"
     },
     "execution_count": 53,
     "metadata": {},
     "output_type": "execute_result"
    }
   ],
   "source": [
    "df"
   ],
   "metadata": {
    "collapsed": false
   }
  },
  {
   "cell_type": "code",
   "execution_count": 54,
   "outputs": [
    {
     "data": {
      "text/plain": "name             0\nid               0\nlevel         9518\nnum              0\nall_point        0\nuser             0\npoint            0\ncontent          0\nlan              0\ndate             0\nip           34688\ndtype: int64"
     },
     "execution_count": 54,
     "metadata": {},
     "output_type": "execute_result"
    }
   ],
   "source": [
    "df.isnull().sum()"
   ],
   "metadata": {
    "collapsed": false
   }
  },
  {
   "cell_type": "code",
   "execution_count": 81,
   "outputs": [
    {
     "data": {
      "text/plain": "0"
     },
     "execution_count": 81,
     "metadata": {},
     "output_type": "execute_result"
    }
   ],
   "source": [
    "df.drop_duplicates(inplace=True)\n",
    "df.duplicated().sum()"
   ],
   "metadata": {
    "collapsed": false
   }
  },
  {
   "cell_type": "code",
   "execution_count": 58,
   "outputs": [
    {
     "data": {
      "text/plain": "(41190, 11)"
     },
     "execution_count": 58,
     "metadata": {},
     "output_type": "execute_result"
    }
   ],
   "source": [
    "df.shape"
   ],
   "metadata": {
    "collapsed": false
   }
  },
  {
   "cell_type": "code",
   "execution_count": 82,
   "outputs": [],
   "source": [
    "df.date = pd.to_datetime(df.date)"
   ],
   "metadata": {
    "collapsed": false
   }
  },
  {
   "cell_type": "code",
   "execution_count": 60,
   "outputs": [
    {
     "name": "stdout",
     "output_type": "stream",
     "text": [
      "<class 'pandas.core.frame.DataFrame'>\n",
      "Int64Index: 41190 entries, 0 to 42178\n",
      "Data columns (total 11 columns):\n",
      " #   Column     Non-Null Count  Dtype         \n",
      "---  ------     --------------  -----         \n",
      " 0   name       41190 non-null  object        \n",
      " 1   id         41190 non-null  int64         \n",
      " 2   level      31988 non-null  float64       \n",
      " 3   num        41190 non-null  int64         \n",
      " 4   all_point  41190 non-null  float64       \n",
      " 5   user       41190 non-null  object        \n",
      " 6   point      41190 non-null  float64       \n",
      " 7   content    41190 non-null  object        \n",
      " 8   lan        41190 non-null  object        \n",
      " 9   date       41190 non-null  datetime64[ns]\n",
      " 10  ip         7129 non-null   object        \n",
      "dtypes: datetime64[ns](1), float64(3), int64(2), object(5)\n",
      "memory usage: 3.8+ MB\n"
     ]
    }
   ],
   "source": [
    "df.info()"
   ],
   "metadata": {
    "collapsed": false
   }
  },
  {
   "cell_type": "code",
   "execution_count": 61,
   "outputs": [],
   "source": [
    "df_save = df.copy()"
   ],
   "metadata": {
    "collapsed": false
   }
  },
  {
   "cell_type": "markdown",
   "source": [
    "# 2 分析\n",
    "## 2.1 清洗 content\n",
    "### 2.1.1 去掉提取错误的"
   ],
   "metadata": {
    "collapsed": false
   }
  },
  {
   "cell_type": "code",
   "execution_count": 83,
   "outputs": [
    {
     "name": "stderr",
     "output_type": "stream",
     "text": [
      "41051it [00:00, 1965619.13it/s]\n"
     ]
    }
   ],
   "source": [
    "drop_index = []\n",
    "for i, j in tqdm(enumerate(df['content'])):\n",
    "    if '{' in j:\n",
    "        drop_index.append(i)"
   ],
   "metadata": {
    "collapsed": false
   }
  },
  {
   "cell_type": "code",
   "execution_count": 84,
   "outputs": [],
   "source": [
    "df.drop(drop_index, inplace=True)"
   ],
   "metadata": {
    "collapsed": false
   }
  },
  {
   "cell_type": "code",
   "execution_count": 87,
   "outputs": [],
   "source": [
    "df.index = np.arange(df.shape[0])"
   ],
   "metadata": {
    "collapsed": false
   }
  },
  {
   "cell_type": "code",
   "execution_count": 96,
   "outputs": [],
   "source": [
    "df['key'] = ''"
   ],
   "metadata": {
    "collapsed": false
   }
  },
  {
   "cell_type": "code",
   "execution_count": 97,
   "outputs": [
    {
     "data": {
      "text/plain": "       name     id  level   num  all_point         user  point  \\\n0      西佘山园  76825    NaN   107        4.7       走走停停。。    5.0   \n1      西佘山园  76825    NaN   107        4.7  139****8030    2.0   \n2      西佘山园  76825    NaN   107        4.7  M36****7643    5.0   \n3      西佘山园  76825    NaN   107        4.7    ell****ng    5.0   \n4      西佘山园  76825    NaN   107        4.7   EricmengTW    4.0   \n...     ...    ...    ...   ...        ...          ...    ...   \n40964   海螺沟  89792    5.0  3614        4.3    ysypyq521    5.0   \n40965   海螺沟  89792    5.0  3614        4.3    M59****86    5.0   \n40966   海螺沟  89792    5.0  3614        4.3         丑丑诺诺    5.0   \n40967   海螺沟  89792    5.0  3614        4.3     my_way66    5.0   \n40968   海螺沟  89792    5.0  3614        4.3   M12****545    5.0   \n\n                                                 content    lan       date  \\\n0                                    周末带娃随便爬一下还是不错的，增进感情  zh-cn 2023-05-31   \n1      2月初的时候带爸妈去逛了一圈，山倒不高，不过对平时缺乏运动的或者腿脚不便的上了年纪的人来说还...  zh-cn 2023-03-22   \n2                                       上海松江佘山，人少景美，空气好。  zh-cn 2023-03-22   \n3                                        在上海算是非常值得一游的地方了  zh-cn 2023-01-31   \n4                                    Very good Very nice  zh-cn 2022-12-26   \n...                                                  ...    ...        ...   \n40964                            非常好！景区环境卫生都很好！合适家人一起游玩！  zh-cn 2019-04-06   \n40965  三月份游海螺沟门票及交通车缆车全部享受半价，四号营地冰川有太阳的照下，光芒四射，有远近雪山的...  zh-cn 2019-04-06   \n40966                                   非常值得一来看，冰川时代，雪景美  zh-cn 2019-04-06   \n40967                        景区管理不错，基础设施完善，沿着冰川和雪山，走在森林中  zh-cn 2019-04-06   \n40968      很美的景色，也很可爱，唯一运气不佳的是，山顶起雾了没有一睹冰川的雄伟，以后有机会还要弥补上  zh-cn 2019-04-05   \n\n        ip key  \n0       上海      \n1       上海      \n2       上海      \n3       上海      \n4       湖北      \n...    ...  ..  \n40964  NaN      \n40965  NaN      \n40966  NaN      \n40967  NaN      \n40968  NaN      \n\n[40969 rows x 12 columns]",
      "text/html": "<div>\n<style scoped>\n    .dataframe tbody tr th:only-of-type {\n        vertical-align: middle;\n    }\n\n    .dataframe tbody tr th {\n        vertical-align: top;\n    }\n\n    .dataframe thead th {\n        text-align: right;\n    }\n</style>\n<table border=\"1\" class=\"dataframe\">\n  <thead>\n    <tr style=\"text-align: right;\">\n      <th></th>\n      <th>name</th>\n      <th>id</th>\n      <th>level</th>\n      <th>num</th>\n      <th>all_point</th>\n      <th>user</th>\n      <th>point</th>\n      <th>content</th>\n      <th>lan</th>\n      <th>date</th>\n      <th>ip</th>\n      <th>key</th>\n    </tr>\n  </thead>\n  <tbody>\n    <tr>\n      <th>0</th>\n      <td>西佘山园</td>\n      <td>76825</td>\n      <td>NaN</td>\n      <td>107</td>\n      <td>4.7</td>\n      <td>走走停停。。</td>\n      <td>5.0</td>\n      <td>周末带娃随便爬一下还是不错的，增进感情</td>\n      <td>zh-cn</td>\n      <td>2023-05-31</td>\n      <td>上海</td>\n      <td></td>\n    </tr>\n    <tr>\n      <th>1</th>\n      <td>西佘山园</td>\n      <td>76825</td>\n      <td>NaN</td>\n      <td>107</td>\n      <td>4.7</td>\n      <td>139****8030</td>\n      <td>2.0</td>\n      <td>2月初的时候带爸妈去逛了一圈，山倒不高，不过对平时缺乏运动的或者腿脚不便的上了年纪的人来说还...</td>\n      <td>zh-cn</td>\n      <td>2023-03-22</td>\n      <td>上海</td>\n      <td></td>\n    </tr>\n    <tr>\n      <th>2</th>\n      <td>西佘山园</td>\n      <td>76825</td>\n      <td>NaN</td>\n      <td>107</td>\n      <td>4.7</td>\n      <td>M36****7643</td>\n      <td>5.0</td>\n      <td>上海松江佘山，人少景美，空气好。</td>\n      <td>zh-cn</td>\n      <td>2023-03-22</td>\n      <td>上海</td>\n      <td></td>\n    </tr>\n    <tr>\n      <th>3</th>\n      <td>西佘山园</td>\n      <td>76825</td>\n      <td>NaN</td>\n      <td>107</td>\n      <td>4.7</td>\n      <td>ell****ng</td>\n      <td>5.0</td>\n      <td>在上海算是非常值得一游的地方了</td>\n      <td>zh-cn</td>\n      <td>2023-01-31</td>\n      <td>上海</td>\n      <td></td>\n    </tr>\n    <tr>\n      <th>4</th>\n      <td>西佘山园</td>\n      <td>76825</td>\n      <td>NaN</td>\n      <td>107</td>\n      <td>4.7</td>\n      <td>EricmengTW</td>\n      <td>4.0</td>\n      <td>Very good Very nice</td>\n      <td>zh-cn</td>\n      <td>2022-12-26</td>\n      <td>湖北</td>\n      <td></td>\n    </tr>\n    <tr>\n      <th>...</th>\n      <td>...</td>\n      <td>...</td>\n      <td>...</td>\n      <td>...</td>\n      <td>...</td>\n      <td>...</td>\n      <td>...</td>\n      <td>...</td>\n      <td>...</td>\n      <td>...</td>\n      <td>...</td>\n      <td>...</td>\n    </tr>\n    <tr>\n      <th>40964</th>\n      <td>海螺沟</td>\n      <td>89792</td>\n      <td>5.0</td>\n      <td>3614</td>\n      <td>4.3</td>\n      <td>ysypyq521</td>\n      <td>5.0</td>\n      <td>非常好！景区环境卫生都很好！合适家人一起游玩！</td>\n      <td>zh-cn</td>\n      <td>2019-04-06</td>\n      <td>NaN</td>\n      <td></td>\n    </tr>\n    <tr>\n      <th>40965</th>\n      <td>海螺沟</td>\n      <td>89792</td>\n      <td>5.0</td>\n      <td>3614</td>\n      <td>4.3</td>\n      <td>M59****86</td>\n      <td>5.0</td>\n      <td>三月份游海螺沟门票及交通车缆车全部享受半价，四号营地冰川有太阳的照下，光芒四射，有远近雪山的...</td>\n      <td>zh-cn</td>\n      <td>2019-04-06</td>\n      <td>NaN</td>\n      <td></td>\n    </tr>\n    <tr>\n      <th>40966</th>\n      <td>海螺沟</td>\n      <td>89792</td>\n      <td>5.0</td>\n      <td>3614</td>\n      <td>4.3</td>\n      <td>丑丑诺诺</td>\n      <td>5.0</td>\n      <td>非常值得一来看，冰川时代，雪景美</td>\n      <td>zh-cn</td>\n      <td>2019-04-06</td>\n      <td>NaN</td>\n      <td></td>\n    </tr>\n    <tr>\n      <th>40967</th>\n      <td>海螺沟</td>\n      <td>89792</td>\n      <td>5.0</td>\n      <td>3614</td>\n      <td>4.3</td>\n      <td>my_way66</td>\n      <td>5.0</td>\n      <td>景区管理不错，基础设施完善，沿着冰川和雪山，走在森林中</td>\n      <td>zh-cn</td>\n      <td>2019-04-06</td>\n      <td>NaN</td>\n      <td></td>\n    </tr>\n    <tr>\n      <th>40968</th>\n      <td>海螺沟</td>\n      <td>89792</td>\n      <td>5.0</td>\n      <td>3614</td>\n      <td>4.3</td>\n      <td>M12****545</td>\n      <td>5.0</td>\n      <td>很美的景色，也很可爱，唯一运气不佳的是，山顶起雾了没有一睹冰川的雄伟，以后有机会还要弥补上</td>\n      <td>zh-cn</td>\n      <td>2019-04-05</td>\n      <td>NaN</td>\n      <td></td>\n    </tr>\n  </tbody>\n</table>\n<p>40969 rows × 12 columns</p>\n</div>"
     },
     "execution_count": 97,
     "metadata": {},
     "output_type": "execute_result"
    }
   ],
   "source": [
    "df"
   ],
   "metadata": {
    "collapsed": false
   }
  },
  {
   "cell_type": "markdown",
   "source": [
    "## 2.2 关键词提取"
   ],
   "metadata": {
    "collapsed": false
   }
  },
  {
   "cell_type": "code",
   "execution_count": 2,
   "outputs": [],
   "source": [
    "import time\n",
    "import urllib.request\n",
    "import urllib.parse\n",
    "import json\n",
    "import hashlib\n",
    "import base64\n",
    "#接口地址\n",
    "url =\"http://ltpapi.xfyun.cn/v1/ke\"\n",
    "#开放平台应用ID\n",
    "x_appid = \"e933ef2e\"\n",
    "#开放平台应用接口秘钥\n",
    "api_key = \"f03cc6348cc50aa841ddeae253700f7f\"\n",
    "#语言文本\n",
    "# TEXT=\"汉皇重色思倾国，御宇多年求不得。杨家有女初长成，养在深闺人未识。天生丽质难自弃，一朝选在君王侧。\"\n",
    "\n",
    "\n",
    "def ltp(TEXT):\n",
    "    body = urllib.parse.urlencode({'text': TEXT}).encode('utf-8')\n",
    "    param = {\"type\": \"dependent\"}\n",
    "    x_param = base64.b64encode(json.dumps(param).replace(' ', '').encode('utf-8'))\n",
    "    x_time = str(int(time.time()))\n",
    "    x_checksum = hashlib.md5(api_key.encode('utf-8') + str(x_time).encode('utf-8') + x_param).hexdigest()\n",
    "    x_header = {'X-Appid': x_appid,\n",
    "                'X-CurTime': x_time,\n",
    "                'X-Param': x_param,\n",
    "                'X-CheckSum': x_checksum}\n",
    "    req = urllib.request.Request(url, body, x_header)\n",
    "    result = urllib.request.urlopen(req)\n",
    "    result = result.read()\n",
    "    result = result.decode('utf-8')\n",
    "    result = json.loads(result)\n",
    "\n",
    "    if result['desc'] == 'success':\n",
    "        return result['data']['ke']\n",
    "#\n",
    "#\n",
    "# if __name__ == '__main__':\n",
    "#     xx = ltp()"
   ],
   "metadata": {
    "collapsed": false
   }
  },
  {
   "cell_type": "code",
   "execution_count": 3,
   "outputs": [
    {
     "data": {
      "text/plain": "[{'score': '0.692', 'word': '散心'},\n {'score': '0.674', 'word': '公园'},\n {'score': '0.669', 'word': '绿化'},\n {'score': '0.635', 'word': '空气'},\n {'score': '0.607', 'word': '清新'},\n {'score': '0.599', 'word': '适合'}]"
     },
     "execution_count": 3,
     "metadata": {},
     "output_type": "execute_result"
    }
   ],
   "source": [
    "ltp('公园绿化很好的，空气清新。适合散心')"
   ],
   "metadata": {
    "collapsed": false
   }
  },
  {
   "cell_type": "code",
   "execution_count": 100,
   "outputs": [],
   "source": [
    "log.config_logging('key_log.log')"
   ],
   "metadata": {
    "collapsed": false
   }
  },
  {
   "cell_type": "code",
   "execution_count": 116,
   "outputs": [],
   "source": [
    "def fafa_ltp(row_num):\n",
    "    if not df.loc[row_num, 'key'] or \"'count':\" in df.loc[row_num, 'key']:\n",
    "        res = str(ltp(df.loc[row_num, 'content']))\n",
    "        logging.debug(f'row={row_num} ltp={res}')\n",
    "        df.loc[row_num, 'key'] = res"
   ],
   "metadata": {
    "collapsed": false
   }
  },
  {
   "cell_type": "code",
   "execution_count": null,
   "outputs": [
    {
     "name": "stderr",
     "output_type": "stream",
     "text": [
      "100%|██████████| 40969/40969 [00:02<00:00, 17504.32it/s]\n",
      " 31%|███       | 12521/40969 [01:42<03:54, 121.57it/s]\n"
     ]
    }
   ],
   "source": [
    "tasks = []\n",
    "with futures.ThreadPoolExecutor(15) as t:\n",
    "\n",
    "    for row in tqdm(df.index):\n",
    "        tasks.append(t.submit(fafa_ltp, row))\n",
    "\n",
    "    for task in tqdm(futures.as_completed(tasks), total=len(tasks)):\n",
    "        task.result()\n"
   ],
   "metadata": {
    "collapsed": false
   }
  },
  {
   "cell_type": "code",
   "execution_count": 114,
   "outputs": [
    {
     "data": {
      "text/plain": "                                                 content  \\\n0                                    周末带娃随便爬一下还是不错的，增进感情   \n1      2月初的时候带爸妈去逛了一圈，山倒不高，不过对平时缺乏运动的或者腿脚不便的上了年纪的人来说还...   \n2                                       上海松江佘山，人少景美，空气好。   \n3                                        在上海算是非常值得一游的地方了   \n4                                    Very good Very nice   \n...                                                  ...   \n40964                            非常好！景区环境卫生都很好！合适家人一起游玩！   \n40965  三月份游海螺沟门票及交通车缆车全部享受半价，四号营地冰川有太阳的照下，光芒四射，有远近雪山的...   \n40966                                   非常值得一来看，冰川时代，雪景美   \n40967                        景区管理不错，基础设施完善，沿着冰川和雪山，走在森林中   \n40968      很美的景色，也很可爱，唯一运气不佳的是，山顶起雾了没有一睹冰川的雄伟，以后有机会还要弥补上   \n\n                                                     key  \n0      [{'count': 1, 'eq': '0.953', 'final': '0.671',...  \n1      [{'score': '0.575', 'word': '钢钉'}, {'score': '...  \n2      [{'score': '0.686', 'word': '佘山'}, {'score': '...  \n3      [{'score': '0.624', 'word': '地方'}, {'score': '...  \n4                                                   None  \n...                                                  ...  \n40964  [{'score': '0.652', 'word': '景区'}, {'score': '...  \n40965  [{'score': '0.641', 'word': '螺沟'}, {'score': '...  \n40966  [{'score': '0.749', 'word': '雪景'}, {'score': '...  \n40967  [{'score': '0.663', 'word': '雪山'}, {'score': '...  \n40968  [{'score': '0.606', 'word': '冰川'}, {'score': '...  \n\n[40969 rows x 2 columns]",
      "text/html": "<div>\n<style scoped>\n    .dataframe tbody tr th:only-of-type {\n        vertical-align: middle;\n    }\n\n    .dataframe tbody tr th {\n        vertical-align: top;\n    }\n\n    .dataframe thead th {\n        text-align: right;\n    }\n</style>\n<table border=\"1\" class=\"dataframe\">\n  <thead>\n    <tr style=\"text-align: right;\">\n      <th></th>\n      <th>content</th>\n      <th>key</th>\n    </tr>\n  </thead>\n  <tbody>\n    <tr>\n      <th>0</th>\n      <td>周末带娃随便爬一下还是不错的，增进感情</td>\n      <td>[{'count': 1, 'eq': '0.953', 'final': '0.671',...</td>\n    </tr>\n    <tr>\n      <th>1</th>\n      <td>2月初的时候带爸妈去逛了一圈，山倒不高，不过对平时缺乏运动的或者腿脚不便的上了年纪的人来说还...</td>\n      <td>[{'score': '0.575', 'word': '钢钉'}, {'score': '...</td>\n    </tr>\n    <tr>\n      <th>2</th>\n      <td>上海松江佘山，人少景美，空气好。</td>\n      <td>[{'score': '0.686', 'word': '佘山'}, {'score': '...</td>\n    </tr>\n    <tr>\n      <th>3</th>\n      <td>在上海算是非常值得一游的地方了</td>\n      <td>[{'score': '0.624', 'word': '地方'}, {'score': '...</td>\n    </tr>\n    <tr>\n      <th>4</th>\n      <td>Very good Very nice</td>\n      <td>None</td>\n    </tr>\n    <tr>\n      <th>...</th>\n      <td>...</td>\n      <td>...</td>\n    </tr>\n    <tr>\n      <th>40964</th>\n      <td>非常好！景区环境卫生都很好！合适家人一起游玩！</td>\n      <td>[{'score': '0.652', 'word': '景区'}, {'score': '...</td>\n    </tr>\n    <tr>\n      <th>40965</th>\n      <td>三月份游海螺沟门票及交通车缆车全部享受半价，四号营地冰川有太阳的照下，光芒四射，有远近雪山的...</td>\n      <td>[{'score': '0.641', 'word': '螺沟'}, {'score': '...</td>\n    </tr>\n    <tr>\n      <th>40966</th>\n      <td>非常值得一来看，冰川时代，雪景美</td>\n      <td>[{'score': '0.749', 'word': '雪景'}, {'score': '...</td>\n    </tr>\n    <tr>\n      <th>40967</th>\n      <td>景区管理不错，基础设施完善，沿着冰川和雪山，走在森林中</td>\n      <td>[{'score': '0.663', 'word': '雪山'}, {'score': '...</td>\n    </tr>\n    <tr>\n      <th>40968</th>\n      <td>很美的景色，也很可爱，唯一运气不佳的是，山顶起雾了没有一睹冰川的雄伟，以后有机会还要弥补上</td>\n      <td>[{'score': '0.606', 'word': '冰川'}, {'score': '...</td>\n    </tr>\n  </tbody>\n</table>\n<p>40969 rows × 2 columns</p>\n</div>"
     },
     "execution_count": 114,
     "metadata": {},
     "output_type": "execute_result"
    }
   ],
   "source": [
    "df.loc[:, ['content', 'key']]"
   ],
   "metadata": {
    "collapsed": false
   }
  },
  {
   "cell_type": "code",
   "execution_count": 115,
   "outputs": [],
   "source": [
    "df.to_excel('备份.xlsx')"
   ],
   "metadata": {
    "collapsed": false
   }
  }
 ],
 "metadata": {
  "kernelspec": {
   "display_name": "Python 3",
   "language": "python",
   "name": "python3"
  },
  "language_info": {
   "codemirror_mode": {
    "name": "ipython",
    "version": 2
   },
   "file_extension": ".py",
   "mimetype": "text/x-python",
   "name": "python",
   "nbconvert_exporter": "python",
   "pygments_lexer": "ipython2",
   "version": "2.7.6"
  }
 },
 "nbformat": 4,
 "nbformat_minor": 0
}
